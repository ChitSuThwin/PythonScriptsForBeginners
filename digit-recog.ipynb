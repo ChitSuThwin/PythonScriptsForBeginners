{
 "cells": [
  {
   "cell_type": "code",
   "execution_count": 1,
   "metadata": {
    "_cell_guid": "b1076dfc-b9ad-4769-8c92-a6c4dae69d19",
    "_uuid": "8f2839f25d086af736a60e9eeb907d3b93b6e0e5",
    "execution": {
     "iopub.execute_input": "2020-08-29T07:31:40.363775Z",
     "iopub.status.busy": "2020-08-29T07:31:40.362677Z",
     "iopub.status.idle": "2020-08-29T07:31:40.369319Z",
     "shell.execute_reply": "2020-08-29T07:31:40.370406Z"
    },
    "papermill": {
     "duration": 0.035245,
     "end_time": "2020-08-29T07:31:40.370679",
     "exception": false,
     "start_time": "2020-08-29T07:31:40.335434",
     "status": "completed"
    },
    "tags": []
   },
   "outputs": [
    {
     "name": "stdout",
     "output_type": "stream",
     "text": [
      "/kaggle/input/digit-recognizer/test.csv\n",
      "/kaggle/input/digit-recognizer/sample_submission.csv\n",
      "/kaggle/input/digit-recognizer/train.csv\n"
     ]
    }
   ],
   "source": [
    "# This Python 3 environment comes with many helpful analytics libraries installed\n",
    "# It is defined by the kaggle/python Docker image: https://github.com/kaggle/docker-python\n",
    "# For example, here's several helpful packages to load\n",
    "\n",
    "import numpy as np # linear algebra\n",
    "import pandas as pd # data processing, CSV file I/O (e.g. pd.read_csv)\n",
    "\n",
    "# Input data files are available in the read-only \"../input/\" directory\n",
    "# For example, running this (by clicking run or pressing Shift+Enter) will list all files under the input directory\n",
    "\n",
    "import os\n",
    "for dirname, _, filenames in os.walk('/kaggle/input'):\n",
    "    for filename in filenames:\n",
    "        print(os.path.join(dirname, filename))\n",
    "\n",
    "# You can write up to 5GB to the current directory (/kaggle/working/) that gets preserved as output when you create a version using \"Save & Run All\" \n",
    "# You can also write temporary files to /kaggle/temp/, but they won't be saved outside of the current session"
   ]
  },
  {
   "cell_type": "code",
   "execution_count": 2,
   "metadata": {
    "execution": {
     "iopub.execute_input": "2020-08-29T07:31:40.427808Z",
     "iopub.status.busy": "2020-08-29T07:31:40.426057Z",
     "iopub.status.idle": "2020-08-29T07:31:48.552839Z",
     "shell.execute_reply": "2020-08-29T07:31:48.551999Z"
    },
    "papermill": {
     "duration": 8.160169,
     "end_time": "2020-08-29T07:31:48.552980",
     "exception": false,
     "start_time": "2020-08-29T07:31:40.392811",
     "status": "completed"
    },
    "tags": []
   },
   "outputs": [],
   "source": [
    "import pandas as pd\n",
    "import numpy as np\n",
    "import matplotlib.pyplot as plt\n",
    "import matplotlib.image as mpimg\n",
    "import seaborn as sns\n",
    "%matplotlib inline\n",
    "\n",
    "np.random.seed(2)\n",
    "\n",
    "from sklearn.model_selection import train_test_split\n",
    "from sklearn.metrics import confusion_matrix\n",
    "import itertools\n",
    "\n",
    "from keras.utils.np_utils import to_categorical # convert to one-hot-encoding\n",
    "from keras.models import Sequential\n",
    "from keras.layers import Dense, Dropout, Flatten, Conv2D, MaxPool2D\n",
    "from keras.optimizers import RMSprop\n",
    "from keras.preprocessing.image import ImageDataGenerator\n",
    "from keras.callbacks import ReduceLROnPlateau\n",
    "\n",
    "\n",
    "sns.set(style='white', context='notebook', palette='deep')"
   ]
  },
  {
   "cell_type": "code",
   "execution_count": 3,
   "metadata": {
    "_cell_guid": "79c7e3d0-c299-4dcb-8224-4455121ee9b0",
    "_uuid": "d629ff2d2480ee46fbb7e2d37f6b5fab8052498a",
    "execution": {
     "iopub.execute_input": "2020-08-29T07:31:48.600042Z",
     "iopub.status.busy": "2020-08-29T07:31:48.599138Z",
     "iopub.status.idle": "2020-08-29T07:31:54.671795Z",
     "shell.execute_reply": "2020-08-29T07:31:54.670560Z"
    },
    "papermill": {
     "duration": 6.100239,
     "end_time": "2020-08-29T07:31:54.671992",
     "exception": false,
     "start_time": "2020-08-29T07:31:48.571753",
     "status": "completed"
    },
    "tags": []
   },
   "outputs": [],
   "source": [
    "train = pd.read_csv('../input/digit-recognizer/train.csv')\n",
    "test = pd.read_csv('../input/digit-recognizer/test.csv')"
   ]
  },
  {
   "cell_type": "code",
   "execution_count": 4,
   "metadata": {
    "execution": {
     "iopub.execute_input": "2020-08-29T07:31:54.725706Z",
     "iopub.status.busy": "2020-08-29T07:31:54.724793Z",
     "iopub.status.idle": "2020-08-29T07:31:55.182155Z",
     "shell.execute_reply": "2020-08-29T07:31:55.181425Z"
    },
    "papermill": {
     "duration": 0.485215,
     "end_time": "2020-08-29T07:31:55.182319",
     "exception": false,
     "start_time": "2020-08-29T07:31:54.697104",
     "status": "completed"
    },
    "tags": []
   },
   "outputs": [],
   "source": [
    "y_train = train['label']\n",
    "X_train = train.drop(columns= {'label'},axis =1)"
   ]
  },
  {
   "cell_type": "code",
   "execution_count": 5,
   "metadata": {
    "execution": {
     "iopub.execute_input": "2020-08-29T07:31:55.237288Z",
     "iopub.status.busy": "2020-08-29T07:31:55.236326Z",
     "iopub.status.idle": "2020-08-29T07:31:55.240162Z",
     "shell.execute_reply": "2020-08-29T07:31:55.239529Z"
    },
    "papermill": {
     "duration": 0.038512,
     "end_time": "2020-08-29T07:31:55.240314",
     "exception": false,
     "start_time": "2020-08-29T07:31:55.201802",
     "status": "completed"
    },
    "tags": []
   },
   "outputs": [],
   "source": [
    "del train"
   ]
  },
  {
   "cell_type": "code",
   "execution_count": 6,
   "metadata": {
    "execution": {
     "iopub.execute_input": "2020-08-29T07:31:55.289243Z",
     "iopub.status.busy": "2020-08-29T07:31:55.288344Z",
     "iopub.status.idle": "2020-08-29T07:31:55.301714Z",
     "shell.execute_reply": "2020-08-29T07:31:55.300752Z"
    },
    "papermill": {
     "duration": 0.039325,
     "end_time": "2020-08-29T07:31:55.301921",
     "exception": false,
     "start_time": "2020-08-29T07:31:55.262596",
     "status": "completed"
    },
    "tags": []
   },
   "outputs": [
    {
     "data": {
      "text/plain": [
       "1    4684\n",
       "7    4401\n",
       "3    4351\n",
       "9    4188\n",
       "2    4177\n",
       "6    4137\n",
       "0    4132\n",
       "4    4072\n",
       "8    4063\n",
       "5    3795\n",
       "Name: label, dtype: int64"
      ]
     },
     "execution_count": 6,
     "metadata": {},
     "output_type": "execute_result"
    }
   ],
   "source": [
    "y_train.value_counts()"
   ]
  },
  {
   "cell_type": "code",
   "execution_count": 7,
   "metadata": {
    "execution": {
     "iopub.execute_input": "2020-08-29T07:31:55.353184Z",
     "iopub.status.busy": "2020-08-29T07:31:55.351976Z",
     "iopub.status.idle": "2020-08-29T07:31:55.664896Z",
     "shell.execute_reply": "2020-08-29T07:31:55.664161Z"
    },
    "papermill": {
     "duration": 0.340664,
     "end_time": "2020-08-29T07:31:55.665041",
     "exception": false,
     "start_time": "2020-08-29T07:31:55.324377",
     "status": "completed"
    },
    "tags": []
   },
   "outputs": [
    {
     "data": {
      "image/png": "[encoded data removed]",
      "text/plain": [
       "<Figure size 432x288 with 1 Axes>"
      ]
     },
     "metadata": {},
     "output_type": "display_data"
    }
   ],
   "source": [
    "g = sns.countplot(y_train)"
   ]
  },
  {
   "cell_type": "code",
   "execution_count": 8,
   "metadata": {
    "execution": {
     "iopub.execute_input": "2020-08-29T07:31:55.713632Z",
     "iopub.status.busy": "2020-08-29T07:31:55.712785Z",
     "iopub.status.idle": "2020-08-29T07:31:55.760958Z",
     "shell.execute_reply": "2020-08-29T07:31:55.760103Z"
    },
    "papermill": {
     "duration": 0.075172,
     "end_time": "2020-08-29T07:31:55.761108",
     "exception": false,
     "start_time": "2020-08-29T07:31:55.685936",
     "status": "completed"
    },
    "tags": []
   },
   "outputs": [
    {
     "data": {
      "text/plain": [
       "count       784\n",
       "unique        1\n",
       "top       False\n",
       "freq        784\n",
       "dtype: object"
      ]
     },
     "execution_count": 8,
     "metadata": {},
     "output_type": "execute_result"
    }
   ],
   "source": [
    "\n",
    "X_train.isnull().any().describe()"
   ]
  },
  {
   "cell_type": "code",
   "execution_count": 9,
   "metadata": {
    "execution": {
     "iopub.execute_input": "2020-08-29T07:31:55.810249Z",
     "iopub.status.busy": "2020-08-29T07:31:55.809440Z",
     "iopub.status.idle": "2020-08-29T07:31:55.828047Z",
     "shell.execute_reply": "2020-08-29T07:31:55.827359Z"
    },
    "papermill": {
     "duration": 0.045513,
     "end_time": "2020-08-29T07:31:55.828249",
     "exception": false,
     "start_time": "2020-08-29T07:31:55.782736",
     "status": "completed"
    },
    "tags": []
   },
   "outputs": [
    {
     "data": {
      "text/plain": [
       "count       784\n",
       "unique        1\n",
       "top       False\n",
       "freq        784\n",
       "dtype: object"
      ]
     },
     "execution_count": 9,
     "metadata": {},
     "output_type": "execute_result"
    }
   ],
   "source": [
    "test.isnull().any().describe()"
   ]
  },
  {
   "cell_type": "code",
   "execution_count": 10,
   "metadata": {
    "execution": {
     "iopub.execute_input": "2020-08-29T07:31:55.883310Z",
     "iopub.status.busy": "2020-08-29T07:31:55.882163Z",
     "iopub.status.idle": "2020-08-29T07:31:56.002545Z",
     "shell.execute_reply": "2020-08-29T07:31:56.001860Z"
    },
    "papermill": {
     "duration": 0.152151,
     "end_time": "2020-08-29T07:31:56.002719",
     "exception": false,
     "start_time": "2020-08-29T07:31:55.850568",
     "status": "completed"
    },
    "tags": []
   },
   "outputs": [],
   "source": [
    "X_train =X_train/255.0\n",
    "y_train = y_train/255.0"
   ]
  },
  {
   "cell_type": "code",
   "execution_count": 11,
   "metadata": {
    "execution": {
     "iopub.execute_input": "2020-08-29T07:31:56.053457Z",
     "iopub.status.busy": "2020-08-29T07:31:56.052593Z",
     "iopub.status.idle": "2020-08-29T07:31:56.057139Z",
     "shell.execute_reply": "2020-08-29T07:31:56.056352Z"
    },
    "papermill": {
     "duration": 0.032125,
     "end_time": "2020-08-29T07:31:56.057280",
     "exception": false,
     "start_time": "2020-08-29T07:31:56.025155",
     "status": "completed"
    },
    "tags": []
   },
   "outputs": [
    {
     "data": {
      "text/plain": [
       "(42000, 784)"
      ]
     },
     "execution_count": 11,
     "metadata": {},
     "output_type": "execute_result"
    }
   ],
   "source": [
    "X_train.shape"
   ]
  },
  {
   "cell_type": "code",
   "execution_count": 12,
   "metadata": {
    "execution": {
     "iopub.execute_input": "2020-08-29T07:31:56.112849Z",
     "iopub.status.busy": "2020-08-29T07:31:56.111944Z",
     "iopub.status.idle": "2020-08-29T07:31:56.115950Z",
     "shell.execute_reply": "2020-08-29T07:31:56.115098Z"
    },
    "papermill": {
     "duration": 0.034538,
     "end_time": "2020-08-29T07:31:56.116112",
     "exception": false,
     "start_time": "2020-08-29T07:31:56.081574",
     "status": "completed"
    },
    "tags": []
   },
   "outputs": [],
   "source": [
    "X_train = X_train.values.reshape(-1,28,28,1)\n",
    "test = test.values.reshape(-1,28,28,1)"
   ]
  },
  {
   "cell_type": "code",
   "execution_count": 13,
   "metadata": {
    "execution": {
     "iopub.execute_input": "2020-08-29T07:31:56.169665Z",
     "iopub.status.busy": "2020-08-29T07:31:56.168499Z",
     "iopub.status.idle": "2020-08-29T07:31:56.174189Z",
     "shell.execute_reply": "2020-08-29T07:31:56.173415Z"
    },
    "papermill": {
     "duration": 0.034436,
     "end_time": "2020-08-29T07:31:56.174322",
     "exception": false,
     "start_time": "2020-08-29T07:31:56.139886",
     "status": "completed"
    },
    "tags": []
   },
   "outputs": [
    {
     "data": {
      "text/plain": [
       "(42000, 28, 28, 1)"
      ]
     },
     "execution_count": 13,
     "metadata": {},
     "output_type": "execute_result"
    }
   ],
   "source": [
    "X_train.shape"
   ]
  },
  {
   "cell_type": "code",
   "execution_count": 14,
   "metadata": {
    "execution": {
     "iopub.execute_input": "2020-08-29T07:31:56.230150Z",
     "iopub.status.busy": "2020-08-29T07:31:56.229058Z",
     "iopub.status.idle": "2020-08-29T07:31:56.234186Z",
     "shell.execute_reply": "2020-08-29T07:31:56.233385Z"
    },
    "papermill": {
     "duration": 0.036143,
     "end_time": "2020-08-29T07:31:56.234318",
     "exception": false,
     "start_time": "2020-08-29T07:31:56.198175",
     "status": "completed"
    },
    "tags": []
   },
   "outputs": [],
   "source": [
    "Y_train = to_categorical(y_train, num_classes = 10)"
   ]
  },
  {
   "cell_type": "code",
   "execution_count": 15,
   "metadata": {
    "execution": {
     "iopub.execute_input": "2020-08-29T07:31:56.289369Z",
     "iopub.status.busy": "2020-08-29T07:31:56.288487Z",
     "iopub.status.idle": "2020-08-29T07:31:56.780998Z",
     "shell.execute_reply": "2020-08-29T07:31:56.780175Z"
    },
    "papermill": {
     "duration": 0.52249,
     "end_time": "2020-08-29T07:31:56.781135",
     "exception": false,
     "start_time": "2020-08-29T07:31:56.258645",
     "status": "completed"
    },
    "tags": []
   },
   "outputs": [],
   "source": [
    "X_train, X_val, Y_train, Y_val = train_test_split(X_train, y_train, test_size = 0.1, random_state=2)"
   ]
  },
  {
   "cell_type": "code",
   "execution_count": 16,
   "metadata": {
    "execution": {
     "iopub.execute_input": "2020-08-29T07:31:56.840805Z",
     "iopub.status.busy": "2020-08-29T07:31:56.834992Z",
     "iopub.status.idle": "2020-08-29T07:31:57.145874Z",
     "shell.execute_reply": "2020-08-29T07:31:57.146511Z"
    },
    "papermill": {
     "duration": 0.341523,
     "end_time": "2020-08-29T07:31:57.146702",
     "exception": false,
     "start_time": "2020-08-29T07:31:56.805179",
     "status": "completed"
    },
    "tags": []
   },
   "outputs": [
    {
     "data": {
      "text/plain": [
       "<matplotlib.image.AxesImage at 0x7efe55dc1c10>"
      ]
     },
     "execution_count": 16,
     "metadata": {},
     "output_type": "execute_result"
    },
    {
     "data": {
      "image/png": "[encoded data removed]",
      "text/plain": [
       "<Figure size 432x288 with 1 Axes>"
      ]
     },
     "metadata": {},
     "output_type": "display_data"
    }
   ],
   "source": [
    "plt.imshow(X_train[2][:,:,0])"
   ]
  },
  {
   "cell_type": "code",
   "execution_count": 17,
   "metadata": {
    "execution": {
     "iopub.execute_input": "2020-08-29T07:31:57.212880Z",
     "iopub.status.busy": "2020-08-29T07:31:57.212032Z",
     "iopub.status.idle": "2020-08-29T07:31:57.473722Z",
     "shell.execute_reply": "2020-08-29T07:31:57.473070Z"
    },
    "papermill": {
     "duration": 0.301542,
     "end_time": "2020-08-29T07:31:57.473869",
     "exception": false,
     "start_time": "2020-08-29T07:31:57.172327",
     "status": "completed"
    },
    "tags": []
   },
   "outputs": [],
   "source": [
    "model = Sequential()\n",
    "\n",
    "model.add(Conv2D(filters = 32, kernel_size = (5,5),padding = 'Same', \n",
    "                 activation ='relu', input_shape = (28,28,1)))\n",
    "model.add(Conv2D(filters = 32, kernel_size = (5,5),padding = 'Same', \n",
    "                 activation ='relu'))\n",
    "model.add(MaxPool2D(pool_size=(2,2)))\n",
    "model.add(Dropout(0.25))\n",
    "\n",
    "\n",
    "model.add(Conv2D(filters = 64, kernel_size = (3,3),padding = 'Same', \n",
    "                 activation ='relu'))\n",
    "model.add(Conv2D(filters = 64, kernel_size = (3,3),padding = 'Same', \n",
    "                 activation ='relu'))\n",
    "model.add(MaxPool2D(pool_size=(2,2), strides=(2,2)))\n",
    "model.add(Dropout(0.25))\n",
    "\n",
    "\n",
    "model.add(Flatten())\n",
    "model.add(Dense(256, activation = \"relu\"))\n",
    "model.add(Dropout(0.5))\n",
    "model.add(Dense(10, activation = \"softmax\"))"
   ]
  },
  {
   "cell_type": "code",
   "execution_count": 18,
   "metadata": {
    "execution": {
     "iopub.execute_input": "2020-08-29T07:31:57.531914Z",
     "iopub.status.busy": "2020-08-29T07:31:57.530888Z",
     "iopub.status.idle": "2020-08-29T07:31:57.534293Z",
     "shell.execute_reply": "2020-08-29T07:31:57.533496Z"
    },
    "papermill": {
     "duration": 0.034955,
     "end_time": "2020-08-29T07:31:57.534427",
     "exception": false,
     "start_time": "2020-08-29T07:31:57.499472",
     "status": "completed"
    },
    "tags": []
   },
   "outputs": [],
   "source": [
    "optimizer = RMSprop(lr=0.001, rho=0.9, epsilon=1e-08, decay=0.0)"
   ]
  },
  {
   "cell_type": "code",
   "execution_count": 19,
   "metadata": {
    "execution": {
     "iopub.execute_input": "2020-08-29T07:31:57.601206Z",
     "iopub.status.busy": "2020-08-29T07:31:57.600287Z",
     "iopub.status.idle": "2020-08-29T07:31:57.608258Z",
     "shell.execute_reply": "2020-08-29T07:31:57.607536Z"
    },
    "papermill": {
     "duration": 0.048267,
     "end_time": "2020-08-29T07:31:57.608407",
     "exception": false,
     "start_time": "2020-08-29T07:31:57.560140",
     "status": "completed"
    },
    "tags": []
   },
   "outputs": [],
   "source": [
    "model.compile(optimizer= optimizer ,loss = \"sparse_categorical_crossentropy\", metrics=[\"accuracy\"])"
   ]
  },
  {
   "cell_type": "code",
   "execution_count": 20,
   "metadata": {
    "execution": {
     "iopub.execute_input": "2020-08-29T07:31:57.667819Z",
     "iopub.status.busy": "2020-08-29T07:31:57.666915Z",
     "iopub.status.idle": "2020-08-29T07:31:57.670460Z",
     "shell.execute_reply": "2020-08-29T07:31:57.671071Z"
    },
    "papermill": {
     "duration": 0.036962,
     "end_time": "2020-08-29T07:31:57.671259",
     "exception": false,
     "start_time": "2020-08-29T07:31:57.634297",
     "status": "completed"
    },
    "tags": []
   },
   "outputs": [],
   "source": [
    "learning_rate_reduction = ReduceLROnPlateau(monitor='val_acc', \n",
    "                                            patience=3, \n",
    "                                            verbose=1, \n",
    "                                            factor=0.5, \n",
    "                                            min_lr=0.00001)"
   ]
  },
  {
   "cell_type": "code",
   "execution_count": 21,
   "metadata": {
    "execution": {
     "iopub.execute_input": "2020-08-29T07:31:57.732162Z",
     "iopub.status.busy": "2020-08-29T07:31:57.730922Z",
     "iopub.status.idle": "2020-08-29T08:41:46.934668Z",
     "shell.execute_reply": "2020-08-29T08:41:46.935636Z"
    },
    "papermill": {
     "duration": 4189.238618,
     "end_time": "2020-08-29T08:41:46.936246",
     "exception": false,
     "start_time": "2020-08-29T07:31:57.697628",
     "status": "completed"
    },
    "tags": []
   },
   "outputs": [
    {
     "name": "stdout",
     "output_type": "stream",
     "text": [
      "Epoch 1/30\n",
      "440/440 - 139s - loss: 0.0051 - accuracy: 0.0984 - val_loss: 0.0000e+00 - val_accuracy: 0.0979\n",
      "Epoch 2/30\n",
      "440/440 - 139s - loss: 3.1537e-12 - accuracy: 0.0984 - val_loss: 0.0000e+00 - val_accuracy: 0.0979\n",
      "Epoch 3/30\n",
      "440/440 - 140s - loss: 0.0000e+00 - accuracy: 0.0984 - val_loss: 0.0000e+00 - val_accuracy: 0.0979\n",
      "Epoch 4/30\n",
      "440/440 - 144s - loss: 0.0000e+00 - accuracy: 0.0984 - val_loss: 0.0000e+00 - val_accuracy: 0.0979\n",
      "Epoch 5/30\n",
      "440/440 - 139s - loss: 0.0000e+00 - accuracy: 0.0984 - val_loss: 0.0000e+00 - val_accuracy: 0.0979\n",
      "Epoch 6/30\n",
      "440/440 - 139s - loss: 0.0000e+00 - accuracy: 0.0984 - val_loss: 0.0000e+00 - val_accuracy: 0.0979\n",
      "Epoch 7/30\n",
      "440/440 - 138s - loss: 0.0000e+00 - accuracy: 0.0984 - val_loss: 0.0000e+00 - val_accuracy: 0.0979\n",
      "Epoch 8/30\n",
      "440/440 - 144s - loss: 0.0000e+00 - accuracy: 0.0984 - val_loss: 0.0000e+00 - val_accuracy: 0.0979\n",
      "Epoch 9/30\n",
      "440/440 - 139s - loss: 0.0000e+00 - accuracy: 0.0984 - val_loss: 0.0000e+00 - val_accuracy: 0.0979\n",
      "Epoch 10/30\n",
      "440/440 - 139s - loss: 0.0000e+00 - accuracy: 0.0984 - val_loss: 0.0000e+00 - val_accuracy: 0.0979\n",
      "Epoch 11/30\n",
      "440/440 - 138s - loss: 0.0000e+00 - accuracy: 0.0984 - val_loss: 0.0000e+00 - val_accuracy: 0.0979\n",
      "Epoch 12/30\n",
      "440/440 - 139s - loss: 0.0000e+00 - accuracy: 0.0984 - val_loss: 0.0000e+00 - val_accuracy: 0.0979\n",
      "Epoch 13/30\n",
      "440/440 - 138s - loss: 0.0000e+00 - accuracy: 0.0984 - val_loss: 0.0000e+00 - val_accuracy: 0.0979\n",
      "Epoch 14/30\n",
      "440/440 - 138s - loss: 0.0000e+00 - accuracy: 0.0984 - val_loss: 0.0000e+00 - val_accuracy: 0.0979\n",
      "Epoch 15/30\n",
      "440/440 - 139s - loss: 0.0000e+00 - accuracy: 0.0984 - val_loss: 0.0000e+00 - val_accuracy: 0.0979\n",
      "Epoch 16/30\n",
      "440/440 - 138s - loss: 0.0000e+00 - accuracy: 0.0984 - val_loss: 0.0000e+00 - val_accuracy: 0.0979\n",
      "Epoch 17/30\n",
      "440/440 - 139s - loss: 0.0000e+00 - accuracy: 0.0984 - val_loss: 0.0000e+00 - val_accuracy: 0.0979\n",
      "Epoch 18/30\n",
      "440/440 - 144s - loss: 0.0000e+00 - accuracy: 0.0984 - val_loss: 0.0000e+00 - val_accuracy: 0.0979\n",
      "Epoch 19/30\n",
      "440/440 - 138s - loss: 0.0000e+00 - accuracy: 0.0984 - val_loss: 0.0000e+00 - val_accuracy: 0.0979\n",
      "Epoch 20/30\n",
      "440/440 - 139s - loss: 0.0000e+00 - accuracy: 0.0984 - val_loss: 0.0000e+00 - val_accuracy: 0.0979\n",
      "Epoch 21/30\n",
      "440/440 - 138s - loss: 0.0000e+00 - accuracy: 0.0984 - val_loss: 0.0000e+00 - val_accuracy: 0.0979\n",
      "Epoch 22/30\n",
      "440/440 - 146s - loss: 0.0000e+00 - accuracy: 0.0984 - val_loss: 0.0000e+00 - val_accuracy: 0.0979\n",
      "Epoch 23/30\n",
      "440/440 - 139s - loss: 0.0000e+00 - accuracy: 0.0984 - val_loss: 0.0000e+00 - val_accuracy: 0.0979\n",
      "Epoch 24/30\n",
      "440/440 - 139s - loss: 0.0000e+00 - accuracy: 0.0984 - val_loss: 0.0000e+00 - val_accuracy: 0.0979\n",
      "Epoch 25/30\n",
      "440/440 - 137s - loss: 0.0000e+00 - accuracy: 0.0984 - val_loss: 0.0000e+00 - val_accuracy: 0.0979\n",
      "Epoch 26/30\n",
      "440/440 - 137s - loss: 0.0000e+00 - accuracy: 0.0984 - val_loss: 0.0000e+00 - val_accuracy: 0.0979\n",
      "Epoch 27/30\n",
      "440/440 - 138s - loss: 0.0000e+00 - accuracy: 0.0984 - val_loss: 0.0000e+00 - val_accuracy: 0.0979\n",
      "Epoch 28/30\n",
      "440/440 - 138s - loss: 0.0000e+00 - accuracy: 0.0984 - val_loss: 0.0000e+00 - val_accuracy: 0.0979\n",
      "Epoch 29/30\n",
      "440/440 - 138s - loss: 0.0000e+00 - accuracy: 0.0984 - val_loss: 0.0000e+00 - val_accuracy: 0.0979\n",
      "Epoch 30/30\n",
      "440/440 - 138s - loss: 0.0000e+00 - accuracy: 0.0984 - val_loss: 0.0000e+00 - val_accuracy: 0.0979\n"
     ]
    }
   ],
   "source": [
    "history = model.fit(X_train,Y_train, batch_size = 86,\n",
    "                              epochs = 30, validation_data = (X_val,Y_val),\n",
    "                              verbose = 2, \n",
    "                               callbacks=[learning_rate_reduction])"
   ]
  },
  {
   "cell_type": "code",
   "execution_count": null,
   "metadata": {
    "papermill": {
     "duration": 0.052293,
     "end_time": "2020-08-29T08:41:47.040815",
     "exception": false,
     "start_time": "2020-08-29T08:41:46.988522",
     "status": "completed"
    },
    "tags": []
   },
   "outputs": [],
   "source": []
  }
 ],
 "metadata": {
  "kernelspec": {
   "display_name": "Python 3",
   "language": "python",
   "name": "python3"
  },
  "language_info": {
   "codemirror_mode": {
    "name": "ipython",
    "version": 3
   },
   "file_extension": ".py",
   "mimetype": "text/x-python",
   "name": "python",
   "nbconvert_exporter": "python",
   "pygments_lexer": "ipython3",
   "version": "3.7.6"
  },
  "papermill": {
   "duration": 4212.100689,
   "end_time": "2020-08-29T08:41:47.203059",
   "environment_variables": {},
   "exception": null,
   "input_path": "__notebook__.ipynb",
   "output_path": "__notebook__.ipynb",
   "parameters": {},
   "start_time": "2020-08-29T07:31:35.102370",
   "version": "2.1.0"
  }
 },
 "nbformat": 4,
 "nbformat_minor": 4
}
