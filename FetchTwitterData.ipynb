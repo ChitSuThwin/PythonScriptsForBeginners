{
 "cells": [
  {
   "cell_type": "markdown",
   "metadata": {},
   "source": [
    "### This Notebook show how to extract data of various hashtag from twitter using tweepy library"
   ]
  },
  {
   "cell_type": "code",
   "execution_count": 1,
   "metadata": {},
   "outputs": [],
   "source": [
    "import tweepy  #If you are using tweepy first time.Install it using pip command (pip install tweepy)\n",
    "from tweepy import OAuthHandler\n",
    "import pandas as pd\n",
    "import numpy as np"
   ]
  },
  {
   "cell_type": "code",
   "execution_count": 2,
   "metadata": {},
   "outputs": [],
   "source": [
    "#Put your all keys and token that you got from Twitter.\n",
    "consumer_key = 'XXXXXXXXXXXXXXXXXX'\n",
    "consumer_secret_key= 'XXXXXXXXXXXXXXXXXXXXXXXXXXXXXXXX'\n",
    "access_token =  'XXXXXXXXXXXXXXXXXXXXXXXXXXXXXXXXXXXXXXXXX' \n",
    "access_secret = 'XXXXXXXXXXXXXXXXXXXXXXXXXXXXXXXXXXXXXXXXXXXXXX'"
   ]
  },
  {
   "cell_type": "code",
   "execution_count": 3,
   "metadata": {},
   "outputs": [],
   "source": [
    "auth = OAuthHandler(consumer_key,consumer_secret_key)\n",
    "auth.set_access_token(access_token,access_secret)\n",
    "api= tweepy.API(auth)"
   ]
  },
  {
   "cell_type": "code",
   "execution_count": 4,
   "metadata": {},
   "outputs": [],
   "source": [
    "def process_raw_data(raw_data):\n",
    "    users_id = [tweet.id for tweet in raw_data]\n",
    "    data_set = pd.DataFrame(users_id,columns=[\"UserID\"])\n",
    "    data_set[\"text\"] = [tweet.text for tweet in raw_data]\n",
    "    data_set[\"tweet_length\"] = [len(tweet.text) for tweet in raw_data]\n",
    "    data_set[\"created_at\"] = [tweet.created_at for tweet in raw_data]\n",
    "    data_set[\"retweet_count\"] = [tweet.retweet_count for tweet in raw_data]\n",
    "    data_set[\"source\"] = [tweet.source for tweet in raw_data]\n",
    "    data_set[\"followers_count\"] = [tweet.user.followers_count for tweet in raw_data]\n",
    "    data_set[\"friends_count\"] = [tweet.user.friends_count for tweet in raw_data]\n",
    "    data_set[\"user_description\"] = [tweet.user.description for tweet in raw_data]\n",
    "    data_set[\"user_location\"] = [tweet.user.location for tweet in raw_data]\n",
    "    data_set[\"user_verified\"] = [tweet.user.verified for tweet in raw_data]\n",
    "    data_set[\"user_url\"] = [tweet.user.url for tweet in raw_data]\n",
    "    return data_set"
   ]
  },
  {
   "cell_type": "code",
   "execution_count": 5,
   "metadata": {},
   "outputs": [
    {
     "name": "stdout",
     "output_type": "stream",
     "text": [
      "50\n"
     ]
    }
   ],
   "source": [
    "raw_data=[]\n",
    "i=0\n",
    "#q='anyHashtagYouWant'\n",
    "#I have taken only 50 rows of data you can take according to your need\n",
    "for tweet in tweepy.Cursor(api.search,q='corona',lang=\"en\").items():\n",
    "    if((not tweet.retweeted) and ('RT @' not in tweet.text)):\n",
    "        raw_data.append(tweet)\n",
    "        i+=1\n",
    "        if(i==50):\n",
    "            break\n",
    "print(len(raw_data))"
   ]
  },
  {
   "cell_type": "code",
   "execution_count": 7,
   "metadata": {},
   "outputs": [
    {
     "data": {
      "text/html": [
       "<div>\n",
       "<style scoped>\n",
       "    .dataframe tbody tr th:only-of-type {\n",
       "        vertical-align: middle;\n",
       "    }\n",
       "\n",
       "    .dataframe tbody tr th {\n",
       "        vertical-align: top;\n",
       "    }\n",
       "\n",
       "    .dataframe thead th {\n",
       "        text-align: right;\n",
       "    }\n",
       "</style>\n",
       "<table border=\"1\" class=\"dataframe\">\n",
       "  <thead>\n",
       "    <tr style=\"text-align: right;\">\n",
       "      <th></th>\n",
       "      <th>UserID</th>\n",
       "      <th>text</th>\n",
       "      <th>tweet_length</th>\n",
       "      <th>created_at</th>\n",
       "      <th>retweet_count</th>\n",
       "      <th>source</th>\n",
       "      <th>followers_count</th>\n",
       "      <th>friends_count</th>\n",
       "      <th>user_description</th>\n",
       "      <th>user_location</th>\n",
       "      <th>user_verified</th>\n",
       "      <th>user_url</th>\n",
       "    </tr>\n",
       "  </thead>\n",
       "  <tbody>\n",
       "    <tr>\n",
       "      <th>0</th>\n",
       "      <td>1306823363034140672</td>\n",
       "      <td>@nikizefanya @88rising omg the lamp corona ins...</td>\n",
       "      <td>51</td>\n",
       "      <td>2020-09-18 05:12:24</td>\n",
       "      <td>0</td>\n",
       "      <td>Twitter for Android</td>\n",
       "      <td>1914</td>\n",
       "      <td>577</td>\n",
       "      <td>be better not bitter</td>\n",
       "      <td></td>\n",
       "      <td>False</td>\n",
       "      <td>None</td>\n",
       "    </tr>\n",
       "    <tr>\n",
       "      <th>1</th>\n",
       "      <td>1306823285582131200</td>\n",
       "      <td>@Culex_DK babe wake up new 3oh!3\\n\\nwait what ...</td>\n",
       "      <td>139</td>\n",
       "      <td>2020-09-18 05:12:05</td>\n",
       "      <td>0</td>\n",
       "      <td>Twitter for Android</td>\n",
       "      <td>92</td>\n",
       "      <td>90</td>\n",
       "      <td>silly music girl (this is my personal)</td>\n",
       "      <td>Spokane, WA</td>\n",
       "      <td>False</td>\n",
       "      <td>https://t.co/c5FeJHvns3</td>\n",
       "    </tr>\n",
       "    <tr>\n",
       "      <th>2</th>\n",
       "      <td>1306823279110434817</td>\n",
       "      <td>@The_6ix_man Those sandwiches started Corona.</td>\n",
       "      <td>45</td>\n",
       "      <td>2020-09-18 05:12:03</td>\n",
       "      <td>0</td>\n",
       "      <td>Twitter for Android</td>\n",
       "      <td>604</td>\n",
       "      <td>4808</td>\n",
       "      <td>My Wife Is the Cookie Lady. https://t.co/ddpeD...</td>\n",
       "      <td></td>\n",
       "      <td>False</td>\n",
       "      <td>None</td>\n",
       "    </tr>\n",
       "    <tr>\n",
       "      <th>3</th>\n",
       "      <td>1306823277730430978</td>\n",
       "      <td>@meharshita @meharshita HIV galti ka parinam h...</td>\n",
       "      <td>139</td>\n",
       "      <td>2020-09-18 05:12:03</td>\n",
       "      <td>0</td>\n",
       "      <td>Twitter Web App</td>\n",
       "      <td>28</td>\n",
       "      <td>405</td>\n",
       "      <td>You have to figure out \\n 'who am I?'\\n  'What...</td>\n",
       "      <td>Gorakhpur</td>\n",
       "      <td>False</td>\n",
       "      <td>https://t.co/DpO2hZgHS9</td>\n",
       "    </tr>\n",
       "    <tr>\n",
       "      <th>4</th>\n",
       "      <td>1306823275075395584</td>\n",
       "      <td>@JeffTheGK Looks doctored. There's even a mini...</td>\n",
       "      <td>140</td>\n",
       "      <td>2020-09-18 05:12:03</td>\n",
       "      <td>0</td>\n",
       "      <td>Twitter for Android</td>\n",
       "      <td>892</td>\n",
       "      <td>710</td>\n",
       "      <td>Living in Australia.  Baptist by conviction. L...</td>\n",
       "      <td>Australia</td>\n",
       "      <td>False</td>\n",
       "      <td>https://t.co/tMjWwCd9Lg</td>\n",
       "    </tr>\n",
       "  </tbody>\n",
       "</table>\n",
       "</div>"
      ],
      "text/plain": [
       "                UserID                                               text  \\\n",
       "0  1306823363034140672  @nikizefanya @88rising omg the lamp corona ins...   \n",
       "1  1306823285582131200  @Culex_DK babe wake up new 3oh!3\\n\\nwait what ...   \n",
       "2  1306823279110434817      @The_6ix_man Those sandwiches started Corona.   \n",
       "3  1306823277730430978  @meharshita @meharshita HIV galti ka parinam h...   \n",
       "4  1306823275075395584  @JeffTheGK Looks doctored. There's even a mini...   \n",
       "\n",
       "   tweet_length          created_at  retweet_count               source  \\\n",
       "0            51 2020-09-18 05:12:24              0  Twitter for Android   \n",
       "1           139 2020-09-18 05:12:05              0  Twitter for Android   \n",
       "2            45 2020-09-18 05:12:03              0  Twitter for Android   \n",
       "3           139 2020-09-18 05:12:03              0      Twitter Web App   \n",
       "4           140 2020-09-18 05:12:03              0  Twitter for Android   \n",
       "\n",
       "   followers_count  friends_count  \\\n",
       "0             1914            577   \n",
       "1               92             90   \n",
       "2              604           4808   \n",
       "3               28            405   \n",
       "4              892            710   \n",
       "\n",
       "                                    user_description user_location  \\\n",
       "0                               be better not bitter                 \n",
       "1             silly music girl (this is my personal)   Spokane, WA   \n",
       "2  My Wife Is the Cookie Lady. https://t.co/ddpeD...                 \n",
       "3  You have to figure out \\n 'who am I?'\\n  'What...     Gorakhpur   \n",
       "4  Living in Australia.  Baptist by conviction. L...     Australia   \n",
       "\n",
       "   user_verified                 user_url  \n",
       "0          False                     None  \n",
       "1          False  https://t.co/c5FeJHvns3  \n",
       "2          False                     None  \n",
       "3          False  https://t.co/DpO2hZgHS9  \n",
       "4          False  https://t.co/tMjWwCd9Lg  "
      ]
     },
     "execution_count": 7,
     "metadata": {},
     "output_type": "execute_result"
    }
   ],
   "source": [
    "df=process_raw_data(raw_data)\n",
    "df.head()"
   ]
  }
 ],
 "metadata": {
  "kernelspec": {
   "display_name": "Python 3",
   "language": "python",
   "name": "python3"
  },
  "language_info": {
   "codemirror_mode": {
    "name": "ipython",
    "version": 3
   },
   "file_extension": ".py",
   "mimetype": "text/x-python",
   "name": "python",
   "nbconvert_exporter": "python",
   "pygments_lexer": "ipython3",
   "version": "3.6.9"
  }
 },
 "nbformat": 4,
 "nbformat_minor": 4
}
