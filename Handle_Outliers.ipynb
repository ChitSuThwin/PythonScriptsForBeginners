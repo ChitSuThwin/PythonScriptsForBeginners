{
  "nbformat": 4,
  "nbformat_minor": 0,
  "metadata": {
    "colab": {
      "name": "Handle_Outliers.ipynb",
      "provenance": [],
      "collapsed_sections": []
    },
    "kernelspec": {
      "name": "python3",
      "display_name": "Python 3"
    }
  },
  "cells": [
    {
      "cell_type": "markdown",
      "metadata": {
        "id": "2QqS-dD8ns_a",
        "colab_type": "text"
      },
      "source": [
        "This Program can detects Outliers and remove it.Assuming Datatype of Dataset can be Object,int64,float,Bollean,Dateandtime.\n"
      ]
    },
    {
      "cell_type": "code",
      "metadata": {
        "id": "qjX_QF-mHvfX",
        "colab_type": "code",
        "colab": {}
      },
      "source": [
        "#importing libraries\n",
        "import pandas as pd\n",
        "import numpy as np"
      ],
      "execution_count": 249,
      "outputs": []
    },
    {
      "cell_type": "code",
      "metadata": {
        "id": "ILaRzXEMHxbj",
        "colab_type": "code",
        "colab": {}
      },
      "source": [
        "#Making dataframe which contain Object,int64,float,Bollean,Dateandtime.\n",
        "d = {'col1': [10000, 2, 3, 4, 7], 'col2': [4.5, 5.9, 6.2, 9000.9, 5.3], 'col3': [True, True, True, False, True], 'col4': ['sohrat','shyam','heera','gvjhd','tyvjh'], 'col5': ['20190902','20190913','20190921','20190923','20190928']}\n",
        "df = pd.DataFrame(data=d)"
      ],
      "execution_count": 250,
      "outputs": []
    },
    {
      "cell_type": "code",
      "metadata": {
        "id": "vA71dyQ2H_he",
        "colab_type": "code",
        "colab": {
          "base_uri": "https://localhost:8080/",
          "height": 123
        },
        "outputId": "cef39044-90bc-4fa9-ec5b-962b0a71eae6"
      },
      "source": [
        "print(df)"
      ],
      "execution_count": 251,
      "outputs": [
        {
          "output_type": "stream",
          "text": [
            "    col1    col2   col3    col4      col5\n",
            "0  10000     4.5   True  sohrat  20190902\n",
            "1      2     5.9   True   shyam  20190913\n",
            "2      3     6.2   True   heera  20190921\n",
            "3      4  9000.9  False   gvjhd  20190923\n",
            "4      7     5.3   True   tyvjh  20190928\n"
          ],
          "name": "stdout"
        }
      ]
    },
    {
      "cell_type": "code",
      "metadata": {
        "id": "dDNxQgzcMfaX",
        "colab_type": "code",
        "colab": {}
      },
      "source": [
        "#Converting column number 5(col5) to datetime format\n",
        "\n",
        "df['col5'] = pd.to_datetime(df['col5'], format='%Y%m%d')"
      ],
      "execution_count": 252,
      "outputs": []
    },
    {
      "cell_type": "code",
      "metadata": {
        "id": "Tpmu1137Ji43",
        "colab_type": "code",
        "colab": {
          "base_uri": "https://localhost:8080/",
          "height": 123
        },
        "outputId": "1a7193c7-9f2f-425e-e8b1-3bf00eb29572"
      },
      "source": [
        "#Checking Datatypes of each column\n",
        "df.dtypes"
      ],
      "execution_count": 253,
      "outputs": [
        {
          "output_type": "execute_result",
          "data": {
            "text/plain": [
              "col1             int64\n",
              "col2           float64\n",
              "col3              bool\n",
              "col4            object\n",
              "col5    datetime64[ns]\n",
              "dtype: object"
            ]
          },
          "metadata": {
            "tags": []
          },
          "execution_count": 253
        }
      ]
    },
    {
      "cell_type": "code",
      "metadata": {
        "id": "XHIIX5MzpkW5",
        "colab_type": "code",
        "colab": {
          "base_uri": "https://localhost:8080/",
          "height": 287
        },
        "outputId": "beff5caa-a110-42ed-da2c-5463c21b81fb"
      },
      "source": [
        "#Checking Statstical measures\n",
        "df.describe()"
      ],
      "execution_count": 254,
      "outputs": [
        {
          "output_type": "execute_result",
          "data": {
            "text/html": [
              "<div>\n",
              "<style scoped>\n",
              "    .dataframe tbody tr th:only-of-type {\n",
              "        vertical-align: middle;\n",
              "    }\n",
              "\n",
              "    .dataframe tbody tr th {\n",
              "        vertical-align: top;\n",
              "    }\n",
              "\n",
              "    .dataframe thead th {\n",
              "        text-align: right;\n",
              "    }\n",
              "</style>\n",
              "<table border=\"1\" class=\"dataframe\">\n",
              "  <thead>\n",
              "    <tr style=\"text-align: right;\">\n",
              "      <th></th>\n",
              "      <th>col1</th>\n",
              "      <th>col2</th>\n",
              "    </tr>\n",
              "  </thead>\n",
              "  <tbody>\n",
              "    <tr>\n",
              "      <th>count</th>\n",
              "      <td>5.000000</td>\n",
              "      <td>5.00000</td>\n",
              "    </tr>\n",
              "    <tr>\n",
              "      <th>mean</th>\n",
              "      <td>2003.200000</td>\n",
              "      <td>1804.56000</td>\n",
              "    </tr>\n",
              "    <tr>\n",
              "      <th>std</th>\n",
              "      <td>4470.347492</td>\n",
              "      <td>4022.87641</td>\n",
              "    </tr>\n",
              "    <tr>\n",
              "      <th>min</th>\n",
              "      <td>2.000000</td>\n",
              "      <td>4.50000</td>\n",
              "    </tr>\n",
              "    <tr>\n",
              "      <th>25%</th>\n",
              "      <td>3.000000</td>\n",
              "      <td>5.30000</td>\n",
              "    </tr>\n",
              "    <tr>\n",
              "      <th>50%</th>\n",
              "      <td>4.000000</td>\n",
              "      <td>5.90000</td>\n",
              "    </tr>\n",
              "    <tr>\n",
              "      <th>75%</th>\n",
              "      <td>7.000000</td>\n",
              "      <td>6.20000</td>\n",
              "    </tr>\n",
              "    <tr>\n",
              "      <th>max</th>\n",
              "      <td>10000.000000</td>\n",
              "      <td>9000.90000</td>\n",
              "    </tr>\n",
              "  </tbody>\n",
              "</table>\n",
              "</div>"
            ],
            "text/plain": [
              "               col1        col2\n",
              "count      5.000000     5.00000\n",
              "mean    2003.200000  1804.56000\n",
              "std     4470.347492  4022.87641\n",
              "min        2.000000     4.50000\n",
              "25%        3.000000     5.30000\n",
              "50%        4.000000     5.90000\n",
              "75%        7.000000     6.20000\n",
              "max    10000.000000  9000.90000"
            ]
          },
          "metadata": {
            "tags": []
          },
          "execution_count": 254
        }
      ]
    },
    {
      "cell_type": "code",
      "metadata": {
        "id": "3Ng77EuYJwg3",
        "colab_type": "code",
        "colab": {}
      },
      "source": [
        "def detect_remove_outliers(df):\n",
        "  li=[] #To append all the index that conatins outliers\n",
        "\n",
        "  for i in df.columns:   #Traversing each column\n",
        "    if(df[i].dtypes!='bool' and df[i].dtypes!='object' and df[i].dtypes!='datetime64[ns]'):  #Checking datatypes of columns and passing only column that contain continuous variable\n",
        "      q1,q3 = np.percentile(df[i],[25,75])    #Finding 1st and 3rd Quartiile of column\n",
        "      iqr = q3-q1     #Interquartile formulae\n",
        "      #print(iqr)\n",
        "      lower_bound = q1 -(1.5*iqr)  #This is lower bound values less than this will be outliers\n",
        "      upper_bound = q3 +(1.5*iqr)  #This is upper bound values more than this will be outliers\n",
        "      #print(lower_bound,upper_bound)\n",
        "      for j in range(df[i].size):  #Traversing each values in a column\n",
        "        if((df[i][j]<lower_bound) or (df[i][j]>upper_bound)): #Checking Outliers\n",
        "          #print(j) \n",
        "          li.append(j)  #Appending oulier index to the list li\n",
        "  li=list(set(li))  #Converting list into set to remove duplicate index otherwise it will give key error\n",
        "  df.drop(li,inplace=True)  #Removing Outliers \n",
        "  return(df) #Returning Final df\n",
        "      \n",
        "          \n",
        "\n",
        "    \n"
      ],
      "execution_count": 255,
      "outputs": []
    },
    {
      "cell_type": "code",
      "metadata": {
        "id": "DSIBBxtxgCw-",
        "colab_type": "code",
        "colab": {
          "base_uri": "https://localhost:8080/",
          "height": 87
        },
        "outputId": "9f355983-513f-4b6c-8408-98fe444b0258"
      },
      "source": [
        "print(detect_remove_outliers(df)) #Calling detect_remove_outliers function"
      ],
      "execution_count": 256,
      "outputs": [
        {
          "output_type": "stream",
          "text": [
            "   col1  col2  col3   col4       col5\n",
            "1     2   5.9  True  shyam 2019-09-13\n",
            "2     3   6.2  True  heera 2019-09-21\n",
            "4     7   5.3  True  tyvjh 2019-09-28\n"
          ],
          "name": "stdout"
        }
      ]
    }
  ]
}